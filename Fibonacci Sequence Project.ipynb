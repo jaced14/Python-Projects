{
 "cells": [
  {
   "cell_type": "code",
   "execution_count": 14,
   "id": "6757c9c9",
   "metadata": {},
   "outputs": [
    {
     "name": "stdout",
     "output_type": "stream",
     "text": [
      "How many terms would you like to calculate in the Fibonacci Sequence?10\n",
      "Here is the Fibonacci Sequence for 1 terms\n",
      "[0]\n",
      "Here is the Fibonacci Sequence for 2 terms\n",
      "[0, 1]\n",
      "Here is the Fibonacci Sequence for 3 terms\n",
      "[0, 1, 1]\n",
      "Here is the Fibonacci Sequence for 4 terms\n",
      "[0, 1, 1, 2]\n",
      "Here is the Fibonacci Sequence for 5 terms\n",
      "[0, 1, 1, 2, 3]\n",
      "Here is the Fibonacci Sequence for 6 terms\n",
      "[0, 1, 1, 2, 3, 5]\n",
      "Here is the Fibonacci Sequence for 7 terms\n",
      "[0, 1, 1, 2, 3, 5, 8]\n",
      "Here is the Fibonacci Sequence for 8 terms\n",
      "[0, 1, 1, 2, 3, 5, 8, 13]\n",
      "Here is the Fibonacci Sequence for 9 terms\n",
      "[0, 1, 1, 2, 3, 5, 8, 13, 21]\n",
      "Here is the Fibonacci Sequence for 10 terms\n",
      "[0, 1, 1, 2, 3, 5, 8, 13, 21, 34]\n"
     ]
    }
   ],
   "source": [
    "# Hello, this is a very simple code I wrote that calculates the Fibonacci Sequence up to the Nth term. \n",
    "n = int(input(\"How many terms would you like to calculate in the Fibonacci Sequence?\"))\n",
    "\n",
    "def fibonacci_sequence(n):\n",
    "    if n in {0,1}:\n",
    "        return n\n",
    "    return fibonacci_sequence(n-1) + fibonacci_sequence(n-2)\n",
    "\n",
    "fibonacci_result = []\n",
    "for n in range(n):\n",
    "    fibonacci_result.append(fibonacci_sequence(n))\n",
    "    print(\"Here is the Fibonacci Sequence for {} terms\".format(n+1))\n",
    "    print(fibonacci_result)"
   ]
  },
  {
   "cell_type": "code",
   "execution_count": null,
   "id": "6314ae8a",
   "metadata": {},
   "outputs": [],
   "source": []
  }
 ],
 "metadata": {
  "kernelspec": {
   "display_name": "Python 3 (ipykernel)",
   "language": "python",
   "name": "python3"
  },
  "language_info": {
   "codemirror_mode": {
    "name": "ipython",
    "version": 3
   },
   "file_extension": ".py",
   "mimetype": "text/x-python",
   "name": "python",
   "nbconvert_exporter": "python",
   "pygments_lexer": "ipython3",
   "version": "3.9.7"
  }
 },
 "nbformat": 4,
 "nbformat_minor": 5
}
