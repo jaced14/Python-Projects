{
 "cells": [
  {
   "cell_type": "code",
   "execution_count": 13,
   "id": "66a0c980",
   "metadata": {},
   "outputs": [
    {
     "name": "stdout",
     "output_type": "stream",
     "text": [
      "Hello. What amount do you want to take out for your loan?550000\n",
      "At what percentage rate do you want your Mortgage to be?2.75\n",
      "How many months do you want your Mortage Term to be?360\n",
      "For a loan amount of $ 550000.0 over a term of 30.0 years with a monthly interest rate of 2.75 %,\n",
      "your montly mortgage payment will be $2245.326495493692\n"
     ]
    }
   ],
   "source": [
    "# Hello, this is a simple program I wrote that calculates monthly mortgage payments based upon how much the total cost of the \n",
    "# loan is, the percentage rate that one wants to pay the loan back at, and how long one wants the term of the mortgage to be. \n",
    "\n",
    "principal_loan = float(input(\"Hello. What amount do you want to take out for your loan?\"))\n",
    "interest = float(input(\"At what percentage rate do you want your Mortgage to be?\"))\n",
    "loan_term = int(input(\"How many months do you want your Mortage Term to be?\"))\n",
    "\n",
    "month_rate = (interest/100)/12\n",
    "\n",
    "mortgage = (principal_loan) * ((month_rate)*(1+month_rate)**(loan_term))/(((1+month_rate)**(loan_term)) - 1)\n",
    "\n",
    "print(\"For a loan amount of $ {} over a term of {} years with a monthly interest rate of {} %,\\nyour montly mortgage payment will be ${}\".format(principal_loan,loan_term/12,interest,mortgage))\n",
    "\n",
    "\n",
    "\n"
   ]
  },
  {
   "cell_type": "code",
   "execution_count": null,
   "id": "94b0e492",
   "metadata": {},
   "outputs": [],
   "source": []
  }
 ],
 "metadata": {
  "kernelspec": {
   "display_name": "Python 3 (ipykernel)",
   "language": "python",
   "name": "python3"
  },
  "language_info": {
   "codemirror_mode": {
    "name": "ipython",
    "version": 3
   },
   "file_extension": ".py",
   "mimetype": "text/x-python",
   "name": "python",
   "nbconvert_exporter": "python",
   "pygments_lexer": "ipython3",
   "version": "3.9.7"
  }
 },
 "nbformat": 4,
 "nbformat_minor": 5
}
