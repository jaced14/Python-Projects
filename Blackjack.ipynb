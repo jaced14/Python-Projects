{
 "cells": [
  {
   "cell_type": "code",
   "execution_count": 2,
   "id": "24cecbb1",
   "metadata": {},
   "outputs": [],
   "source": [
    "# Hello, this is the project I developed using Object-Oriented Programming (OOP) to build a game of Blackjack that has the \n",
    "# computer deal the cards. \n",
    "# To start, I imported the random module to utilize later in the program. \n",
    "import random"
   ]
  },
  {
   "cell_type": "code",
   "execution_count": 3,
   "id": "8e2afe61",
   "metadata": {},
   "outputs": [],
   "source": [
    "# Here, I am going to use tuples to list all different types of card suits and ranks, and a dictionary to attribute \n",
    "# a numerical integer value to each number in the dictionary. I also created a variable called playing that I set equal to True.\n",
    "\n",
    "\n",
    "suits = ('Hearts','Clubs','Diamonds','Spades')\n",
    "ranks = ('Two','Three','Four','Five','Six','Seven','Eight','Nine','Ten','Jack','Queen','King','Ace')\n",
    "values = {'Two':2, 'Three':3, 'Four':4, 'Five':5, 'Six':6, 'Seven':7, 'Eight':8, \n",
    "            'Nine':9, 'Ten':10, 'Jack':11, 'Queen':12, 'King':13, 'Ace':14}\n",
    "playing = True"
   ]
  },
  {
   "cell_type": "code",
   "execution_count": 52,
   "id": "b69d74f8",
   "metadata": {},
   "outputs": [],
   "source": [
    "# Here, I am defining my Card class that has attributes of suit and rank, and a string representation that spells out the \n",
    "# card rank and the card suit as a string. \n",
    "\n",
    "\n",
    "\n",
    "class Card():\n",
    "    \n",
    "    def __init__(self,suit,rank):\n",
    "        self.suit = suit\n",
    "        self.rank = rank\n",
    "    \n",
    "    def __str__(self):\n",
    "        return self.rank + ' of ' + self.suit"
   ]
  },
  {
   "cell_type": "code",
   "execution_count": 53,
   "id": "f1692fe6",
   "metadata": {},
   "outputs": [],
   "source": [
    "# Here, I have defined a Deck class in order to display a full set of 52 cards. The Deck class has an attribute of an empty\n",
    "# list that has every card added to it via the for loops with suits and ranks. The class also has a string representation \n",
    "# of the whole deck that prints out each card in the deck. The class also has two functions, shuffle(self) and deal(self).\n",
    "# The shuffle function uses the random module previously imported to shuffle the cards, and the deal function uses the \n",
    "# pop attribute to remove a card from the shuffled deck list. \n",
    "\n",
    "\n",
    "class Deck():\n",
    "    \n",
    "    def __init__(self):\n",
    "        self.deck = [] \n",
    "        for suit in suits:\n",
    "            for rank in ranks:\n",
    "                self.deck.append(Card(suit,rank))\n",
    "   \n",
    "    def __str__(self):\n",
    "        deck_comp = '' \n",
    "        for card in self.deck:\n",
    "            deck_comp += '\\n '+card.__str__() \n",
    "        return 'The deck has:' + deck_comp\n",
    "    \n",
    "    def shuffle(self):\n",
    "        random.shuffle(self.deck)\n",
    "    \n",
    "    def deal(self): \n",
    "        single_card = self.deck.pop()\n",
    "        return single_card\n"
   ]
  },
  {
   "cell_type": "code",
   "execution_count": 6,
   "id": "1f9fa2da",
   "metadata": {},
   "outputs": [],
   "source": [
    "# Creating an instance of the Deck class. \n",
    "\n",
    "test_deck = Deck()"
   ]
  },
  {
   "cell_type": "code",
   "execution_count": 7,
   "id": "edf23c24",
   "metadata": {},
   "outputs": [
    {
     "name": "stdout",
     "output_type": "stream",
     "text": [
      "The deck has:\n",
      " Two of Hearts\n",
      " Three of Hearts\n",
      " Four of Hearts\n",
      " Five of Hearts\n",
      " Six of Hearts\n",
      " Seven of Hearts\n",
      " Eight of Hearts\n",
      " Nine of Hearts\n",
      " Ten of Hearts\n",
      " Jack of Hearts\n",
      " Queen of Hearts\n",
      " King of Hearts\n",
      " Ace of Hearts\n",
      " Two of Clubs\n",
      " Three of Clubs\n",
      " Four of Clubs\n",
      " Five of Clubs\n",
      " Six of Clubs\n",
      " Seven of Clubs\n",
      " Eight of Clubs\n",
      " Nine of Clubs\n",
      " Ten of Clubs\n",
      " Jack of Clubs\n",
      " Queen of Clubs\n",
      " King of Clubs\n",
      " Ace of Clubs\n",
      " Two of Diamonds\n",
      " Three of Diamonds\n",
      " Four of Diamonds\n",
      " Five of Diamonds\n",
      " Six of Diamonds\n",
      " Seven of Diamonds\n",
      " Eight of Diamonds\n",
      " Nine of Diamonds\n",
      " Ten of Diamonds\n",
      " Jack of Diamonds\n",
      " Queen of Diamonds\n",
      " King of Diamonds\n",
      " Ace of Diamonds\n",
      " Two of Spades\n",
      " Three of Spades\n",
      " Four of Spades\n",
      " Five of Spades\n",
      " Six of Spades\n",
      " Seven of Spades\n",
      " Eight of Spades\n",
      " Nine of Spades\n",
      " Ten of Spades\n",
      " Jack of Spades\n",
      " Queen of Spades\n",
      " King of Spades\n",
      " Ace of Spades\n"
     ]
    }
   ],
   "source": [
    "# Printing out the test instance of the Deck class\n",
    "\n",
    "print(test_deck)"
   ]
  },
  {
   "cell_type": "code",
   "execution_count": 62,
   "id": "6764eccf",
   "metadata": {},
   "outputs": [],
   "source": [
    "# Here is the Hand class, created to make a player's hand for Blackjack. The class has attributes of total value of the hand,\n",
    "# how many aces are in the hand, and an empty list that holds the cards in the player's hand. The function add_card(self,card)\n",
    "# is equivalent to a 'hit' in blackjack and adds a card to the players hand, while also keeping track of the total value of \n",
    "# the player's hand and how many aces are in the players hand. The function adjust_for_ace(self) subtracts 10 off of the \n",
    "# hand value and one from the aces value if the value of the hand is greater than 21 and an ace is dealt. \n",
    "\n",
    "class Hand:\n",
    "    \n",
    "    def __init__(self):\n",
    "        self.cards = []  \n",
    "        self.value = 0   \n",
    "        self.aces = 0    \n",
    "   \n",
    "    def add_card(self,card):\n",
    "        self.cards.append(card)\n",
    "        self.value += values[card.rank]\n",
    "        if card.rank == 'Ace':\n",
    "            self.aces += 1  \n",
    "    \n",
    "    def adjust_for_ace(self):\n",
    "        while self.value > 21 and self.aces:\n",
    "            self.value -= 10\n",
    "            self.aces -= 1 "
   ]
  },
  {
   "cell_type": "code",
   "execution_count": 9,
   "id": "aa32462b",
   "metadata": {},
   "outputs": [
    {
     "data": {
      "text/plain": [
       "<__main__.Deck at 0x24d953d49d0>"
      ]
     },
     "execution_count": 9,
     "metadata": {},
     "output_type": "execute_result"
    }
   ],
   "source": [
    "test_deck\n"
   ]
  },
  {
   "cell_type": "code",
   "execution_count": 10,
   "id": "75f6fbd5",
   "metadata": {},
   "outputs": [],
   "source": [
    "# Shuffling the card deck \n",
    "test_deck.shuffle()"
   ]
  },
  {
   "cell_type": "code",
   "execution_count": 11,
   "id": "291a2148",
   "metadata": {},
   "outputs": [
    {
     "name": "stdout",
     "output_type": "stream",
     "text": [
      "The deck has:\n",
      " King of Diamonds\n",
      " Jack of Clubs\n",
      " Seven of Spades\n",
      " Five of Hearts\n",
      " Eight of Spades\n",
      " King of Spades\n",
      " Eight of Diamonds\n",
      " Five of Clubs\n",
      " Ace of Diamonds\n",
      " Nine of Clubs\n",
      " Ace of Spades\n",
      " Jack of Diamonds\n",
      " Five of Diamonds\n",
      " Four of Spades\n",
      " Ten of Spades\n",
      " Three of Spades\n",
      " Two of Clubs\n",
      " Queen of Hearts\n",
      " Nine of Diamonds\n",
      " Ten of Clubs\n",
      " Three of Hearts\n",
      " Jack of Spades\n",
      " Ten of Diamonds\n",
      " Queen of Diamonds\n",
      " Two of Diamonds\n",
      " Two of Spades\n",
      " Eight of Hearts\n",
      " Ten of Hearts\n",
      " Nine of Hearts\n",
      " Six of Spades\n",
      " Four of Diamonds\n",
      " Six of Clubs\n",
      " Two of Hearts\n",
      " King of Clubs\n",
      " Four of Hearts\n",
      " Seven of Diamonds\n",
      " Six of Diamonds\n",
      " Ace of Clubs\n",
      " Nine of Spades\n",
      " Jack of Hearts\n",
      " Seven of Clubs\n",
      " Seven of Hearts\n",
      " Queen of Clubs\n",
      " Five of Spades\n",
      " Eight of Clubs\n",
      " Three of Clubs\n",
      " Queen of Spades\n",
      " Three of Diamonds\n",
      " Ace of Hearts\n",
      " King of Hearts\n",
      " Four of Clubs\n",
      " Six of Hearts\n"
     ]
    }
   ],
   "source": [
    "print(test_deck)"
   ]
  },
  {
   "cell_type": "code",
   "execution_count": 12,
   "id": "82945097",
   "metadata": {},
   "outputs": [],
   "source": [
    "# Creating a test instance of the Hand class to create a test player.\n",
    "test_player = Hand()"
   ]
  },
  {
   "cell_type": "code",
   "execution_count": 13,
   "id": "f2a9a67b",
   "metadata": {},
   "outputs": [],
   "source": [
    "# Adding two random cards to the test player's hand using the add_card attribute. \n",
    "test_player.add_card(test_deck.deal())\n",
    "test_player.add_card(test_deck.deal())"
   ]
  },
  {
   "cell_type": "code",
   "execution_count": 14,
   "id": "1fcdf035",
   "metadata": {},
   "outputs": [
    {
     "data": {
      "text/plain": [
       "10"
      ]
     },
     "execution_count": 14,
     "metadata": {},
     "output_type": "execute_result"
    }
   ],
   "source": [
    "# Displaying the total value of the hand by calling the value attribute for the Hand class\n",
    "test_player.value"
   ]
  },
  {
   "cell_type": "code",
   "execution_count": 15,
   "id": "048c78b8",
   "metadata": {},
   "outputs": [
    {
     "name": "stdout",
     "output_type": "stream",
     "text": [
      "Six of Hearts\n",
      "Four of Clubs\n"
     ]
    }
   ],
   "source": [
    "# Printing the cards in the players hand to confirm the Hand class is working properly\n",
    "\n",
    "for card in test_player.cards:\n",
    "    print(card)"
   ]
  },
  {
   "cell_type": "code",
   "execution_count": 16,
   "id": "45167f7b",
   "metadata": {},
   "outputs": [],
   "source": [
    "# Here is the chips class, which is where the total number avaible in chips to bet is accounted for. The Chips class has \n",
    "# attributes of total chips which is initially set equal to 100, and bet, which keeps track of how many chips are bet. \n",
    "# The function win_bet() takes into account winning a round of Blackjack and adds to the total amount of the players chips,\n",
    "# while lose_bet() takes into account losing a round of Blackjack and subtracts from the total amount of player chips. \n",
    "\n",
    "class Chips:\n",
    "    \n",
    "    def __init__(self):\n",
    "        self.total = 100\n",
    "        self.bet = 0\n",
    "    \n",
    "    def win_bet(self):\n",
    "        self.total += self.bet\n",
    "    \n",
    "    def lose_bet(self):\n",
    "        self.total -= self.bet"
   ]
  },
  {
   "cell_type": "code",
   "execution_count": 17,
   "id": "5cf16801",
   "metadata": {},
   "outputs": [],
   "source": [
    "# The function take_bet(chips) simply asks for the player to bet a certain amount of chips, with a failsafe that prevents\n",
    "# the player from betting more chips than they have available. \n",
    "\n",
    "def take_bet(chips):\n",
    "    \n",
    "    while True:\n",
    "        try:\n",
    "            chips.bet = int(input('How much would you like to bet?'))\n",
    "        except ValueError:\n",
    "            print('Sorry, this value is not an integer. Please enter an integer value.')\n",
    "        else:\n",
    "            if chips.bet > chips.total:\n",
    "                print(\"Sorry, your bet can't exceed\", chips.total)\n",
    "            else:\n",
    "                break\n",
    "        "
   ]
  },
  {
   "cell_type": "code",
   "execution_count": 18,
   "id": "a379e417",
   "metadata": {},
   "outputs": [],
   "source": [
    "# The function hit(deck,hand) just creates instances of the Hand class and it's functions add_card and adjust_for_ace to create\n",
    "# a hand for the player. \n",
    "\n",
    "def hit(deck,hand):\n",
    "    \n",
    "    hand.add_card(deck.deal())\n",
    "    hand.adjust_for_ace()\n",
    "    "
   ]
  },
  {
   "cell_type": "code",
   "execution_count": 19,
   "id": "d2578e75",
   "metadata": {},
   "outputs": [],
   "source": [
    "my_hand = Hand()"
   ]
  },
  {
   "cell_type": "code",
   "execution_count": 74,
   "id": "614db3f7",
   "metadata": {},
   "outputs": [],
   "source": [
    "# The function hit_or_stand(deck,hand) simply just allows for the player to add more to their hand or to stand and allow for \n",
    "# the dealer to play their hand. \n",
    "\n",
    "def hit_or_stand(deck,hand):\n",
    "    global playing  \n",
    "    \n",
    "    while True:\n",
    "        x = input(\"Would you like to Hit or Stand? Enter 'h' or 's' \")\n",
    "        \n",
    "        if x[0].lower() == 'h':\n",
    "            hit(deck,hand) \n",
    "\n",
    "        elif x[0].lower() == 's':\n",
    "            print(\"Player stands. Dealer is playing.\")\n",
    "            playing = False\n",
    "\n",
    "        else:\n",
    "            print(\"Sorry, please try again.\")\n",
    "            continue\n",
    "        break"
   ]
  },
  {
   "cell_type": "code",
   "execution_count": 75,
   "id": "e37c76b0",
   "metadata": {},
   "outputs": [],
   "source": [
    "# The function show_some(player,dealer) shows only one of the dealer's cards while hiding the rest of them, and shows\n",
    "# all of the cards currently in the player's hands. Show_all(player,dealer) shows all of the player's and the dealer's cards\n",
    "# along with the total value of the cards that utilizes the Dealer and Player class attributes of value and cards.\n",
    "\n",
    "def show_some(player,dealer):\n",
    "    print(\"\\nDealer's Hand:\")\n",
    "    print(\" <card hidden>\")\n",
    "    print('',dealer.cards[1])  \n",
    "    print(\"\\nPlayer's Hand:\", *player.cards, sep='\\n ')\n",
    "    \n",
    "def show_all(player,dealer):\n",
    "    print(\"\\nDealer's Hand:\", *dealer.cards, sep='\\n ')\n",
    "    print(\"Dealer's Hand =\",dealer.value)\n",
    "    print(\"\\nPlayer's Hand:\", *player.cards, sep='\\n ')\n",
    "    print(\"Player's Hand =\",player.value)"
   ]
  },
  {
   "cell_type": "code",
   "execution_count": 76,
   "id": "276c542b",
   "metadata": {},
   "outputs": [],
   "source": [
    "# Player_busts(player,dealer,chips) calls the chips class function lose_bet to signify the player lost that round of Blackjack.\n",
    "# Player_wins(player,dealer,chips) calls the chips class function win_bet and signifies that the player has won that round. \n",
    "# Dealer_busts(player,dealer,chips) calls the chips class function win_bet and gives an identical result as Player_wins.\n",
    "# Dealer_wins(player,dealer,chips) calls the chips call function lose_bet and gives an identical result as Player_busts. \n",
    "# Push(player,dealer) declares a tie between the dealer and player. \n",
    "\n",
    "\n",
    "def player_busts(player,dealer,chips):\n",
    "    print('Player Busts!')\n",
    "    chips.lose_bet()\n",
    "\n",
    "def player_wins(player,dealer,chips):\n",
    "    print('Player Wins!')\n",
    "    chips.win_bet()\n",
    "\n",
    "def dealer_busts(player,dealer,chips):\n",
    "    print('Player Wins!')\n",
    "    chips.win_bet()\n",
    "    \n",
    "def dealer_wins(player,dealer,chips):\n",
    "    print('Player Busts!')\n",
    "    chips.lose_bet()\n",
    "    \n",
    "def push(player,dealer):\n",
    "    print(\"Dealer and Player Tie! Push!\")"
   ]
  },
  {
   "cell_type": "code",
   "execution_count": null,
   "id": "fc2c473e",
   "metadata": {},
   "outputs": [
    {
     "name": "stdout",
     "output_type": "stream",
     "text": [
      "Welcome to BlackJack! Get as close to 21 as you can without going over!\n",
      "    Dealer hits until she reaches 17. Aces count as 1 or 11.\n",
      "How much would you like to bet?40\n",
      "\n",
      "Dealer's Hand:\n",
      " <card hidden>\n",
      " King of Clubs\n",
      "\n",
      "Player's Hand:\n",
      " Eight of Spades\n",
      " Five of Clubs\n",
      "Would you like to Hit or Stand? Enter 'h' or 's' h\n",
      "\n",
      "Dealer's Hand:\n",
      " <card hidden>\n",
      " King of Clubs\n",
      "\n",
      "Player's Hand:\n",
      " Eight of Spades\n",
      " Five of Clubs\n",
      " Four of Clubs\n",
      "Would you like to Hit or Stand? Enter 'h' or 's' s\n",
      "Player stands. Dealer is playing.\n",
      "\n",
      "Dealer's Hand:\n",
      " <card hidden>\n",
      " King of Clubs\n",
      "\n",
      "Player's Hand:\n",
      " Eight of Spades\n",
      " Five of Clubs\n",
      " Four of Clubs\n",
      "\n",
      "Dealer's Hand:\n",
      " Six of Hearts\n",
      " King of Clubs\n",
      "Dealer's Hand = 19\n",
      "\n",
      "Player's Hand:\n",
      " Eight of Spades\n",
      " Five of Clubs\n",
      " Four of Clubs\n",
      "Player's Hand = 17\n",
      "Player Busts!\n",
      "\n",
      "Player's winnings stand at 60\n",
      "Would you like to play another hand? Enter 'y' or 'n' y\n",
      "Welcome to BlackJack! Get as close to 21 as you can without going over!\n",
      "    Dealer hits until she reaches 17. Aces count as 1 or 11.\n",
      "How much would you like to bet?50\n",
      "\n",
      "Dealer's Hand:\n",
      " <card hidden>\n",
      " Five of Spades\n",
      "\n",
      "Player's Hand:\n",
      " King of Hearts\n",
      " Eight of Clubs\n",
      "Would you like to Hit or Stand? Enter 'h' or 's' s\n",
      "Player stands. Dealer is playing.\n",
      "\n",
      "Dealer's Hand:\n",
      " <card hidden>\n",
      " Five of Spades\n",
      "\n",
      "Player's Hand:\n",
      " King of Hearts\n",
      " Eight of Clubs\n",
      "\n",
      "Dealer's Hand:\n",
      " Ten of Hearts\n",
      " Five of Spades\n",
      " Nine of Spades\n",
      "Dealer's Hand = 24\n",
      "\n",
      "Player's Hand:\n",
      " King of Hearts\n",
      " Eight of Clubs\n",
      "Player's Hand = 21\n",
      "Player Wins!\n",
      "\n",
      "Player's winnings stand at 150\n"
     ]
    }
   ],
   "source": [
    "# Game logic section. While playing = True\n",
    "\n",
    "while True:\n",
    "   \n",
    "    print('Welcome to BlackJack! Get as close to 21 as you can without going over!\\n\\\n",
    "    Dealer hits until she reaches 17. Aces count as 1 or 11.')\n",
    "\n",
    "\n",
    "    \n",
    "    deck = Deck()\n",
    "    deck.shuffle()\n",
    "    \n",
    "    player_hand = Hand()\n",
    "    player_hand.add_card(deck.deal())\n",
    "    player_hand.add_card(deck.deal())\n",
    "  \n",
    "    dealer_hand = Hand()\n",
    "    dealer_hand.add_card(deck.deal())\n",
    "    dealer_hand.add_card(deck.deal())\n",
    "            \n",
    "\n",
    "    player_chips = Chips()    \n",
    "    \n",
    "  \n",
    "    take_bet(player_chips)\n",
    "    \n",
    "    \n",
    "    show_some(player_hand,dealer_hand)\n",
    "    \n",
    "    while playing:  \n",
    "      \n",
    "        hit_or_stand(deck,player_hand) \n",
    "        \n",
    "      \n",
    "        show_some(player_hand,dealer_hand)  \n",
    "        \n",
    "       \n",
    "        if player_hand.value > 21:\n",
    "            player_busts(player_hand,dealer_hand,player_chips)\n",
    "            break        \n",
    "\n",
    "\n",
    "    \n",
    "    if player_hand.value <= 21:\n",
    "        \n",
    "        while dealer_hand.value < 17:\n",
    "            hit(deck,dealer_hand)    \n",
    "    \n",
    "       \n",
    "        show_all(player_hand,dealer_hand)\n",
    "        \n",
    "        \n",
    "        if dealer_hand.value > 21:\n",
    "            dealer_busts(player_hand,dealer_hand,player_chips)\n",
    "\n",
    "        elif dealer_hand.value > player_hand.value:\n",
    "            dealer_wins(player_hand,dealer_hand,player_chips)\n",
    "\n",
    "        elif dealer_hand.value < player_hand.value:\n",
    "            player_wins(player_hand,dealer_hand,player_chips)\n",
    "\n",
    "        else:\n",
    "            push(player_hand,dealer_hand)        \n",
    "    \n",
    "  \n",
    "    print(\"\\nPlayer's winnings stand at\",player_chips.total)\n",
    "    \n",
    "\n",
    "    new_game = input(\"Would you like to play another hand? Enter 'y' or 'n' \")\n",
    "    \n",
    "    if new_game[0].lower()=='y':\n",
    "        playing=True\n",
    "        continue\n",
    "    else:\n",
    "        print(\"Thanks for playing!\")\n",
    "        break"
   ]
  },
  {
   "cell_type": "code",
   "execution_count": null,
   "id": "baba95dc",
   "metadata": {},
   "outputs": [],
   "source": [
    "card.rank"
   ]
  },
  {
   "cell_type": "code",
   "execution_count": null,
   "id": "88959be1",
   "metadata": {},
   "outputs": [],
   "source": [
    "card.rank\n"
   ]
  },
  {
   "cell_type": "code",
   "execution_count": 1,
   "id": "5310befa",
   "metadata": {},
   "outputs": [
    {
     "ename": "NameError",
     "evalue": "name 'Deck' is not defined",
     "output_type": "error",
     "traceback": [
      "\u001b[1;31m---------------------------------------------------------------------------\u001b[0m",
      "\u001b[1;31mNameError\u001b[0m                                 Traceback (most recent call last)",
      "\u001b[1;32m~\\AppData\\Local\\Temp/ipykernel_21800/2291327927.py\u001b[0m in \u001b[0;36m<module>\u001b[1;34m\u001b[0m\n\u001b[1;32m----> 1\u001b[1;33m \u001b[0mDeck\u001b[0m\u001b[1;33m.\u001b[0m\u001b[0mshuffle\u001b[0m\u001b[1;33m(\u001b[0m\u001b[1;33m)\u001b[0m\u001b[1;33m\u001b[0m\u001b[1;33m\u001b[0m\u001b[0m\n\u001b[0m",
      "\u001b[1;31mNameError\u001b[0m: name 'Deck' is not defined"
     ]
    }
   ],
   "source": [
    "Deck.shuffle()"
   ]
  },
  {
   "cell_type": "code",
   "execution_count": null,
   "id": "595fa0d9",
   "metadata": {},
   "outputs": [],
   "source": []
  }
 ],
 "metadata": {
  "kernelspec": {
   "display_name": "Python 3 (ipykernel)",
   "language": "python",
   "name": "python3"
  },
  "language_info": {
   "codemirror_mode": {
    "name": "ipython",
    "version": 3
   },
   "file_extension": ".py",
   "mimetype": "text/x-python",
   "name": "python",
   "nbconvert_exporter": "python",
   "pygments_lexer": "ipython3",
   "version": "3.9.7"
  }
 },
 "nbformat": 4,
 "nbformat_minor": 5
}
