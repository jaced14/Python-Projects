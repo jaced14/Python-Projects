{
 "cells": [
  {
   "cell_type": "code",
   "execution_count": 1,
   "id": "338318c4",
   "metadata": {},
   "outputs": [],
   "source": [
    "# Hello, this is my Tic Tac Toe game project I built with Python. I developed this game with the assistance of the Udemy Python:\n",
    "# Hero to Zero Bootcamp! \n",
    "#To start with development of this game, the first step is to imput clear_output from the IPython.display module\n",
    "\n",
    "\n",
    "from IPython.display import clear_output"
   ]
  },
  {
   "cell_type": "code",
   "execution_count": 2,
   "id": "aadd354a",
   "metadata": {},
   "outputs": [],
   "source": [
    "# After importing clear_output, the next step is to create the board. I did this by defining a function board_display() that \n",
    "# takes an input of a list and prints it on a blank grid with nine spaces, with each space on the grid corresponding to the\n",
    "# list's indexed data. \n",
    "\n",
    "def board_display(board):\n",
    "    clear_output()\n",
    "    print('    |   |')\n",
    "    print(' '+ board[7] + '  |  ' + board[8] + '|  '+ board[9])\n",
    "    print('    |   |')\n",
    "    print('-------------')\n",
    "    print('    |   |')\n",
    "    print(' '+ board[4] + '  |  ' + board[5] + '|  '+ board[6])\n",
    "    print('    |   |')\n",
    "    print('-------------')\n",
    "    print('    |   |')\n",
    "    print(' '+ board[1] + '  |  ' + board[2] + '|  '+ board[3])\n",
    "    print('    |   |')"
   ]
  },
  {
   "cell_type": "code",
   "execution_count": 3,
   "id": "0a4032b4",
   "metadata": {},
   "outputs": [],
   "source": [
    "# For testing purposes, I defined an empty list named 'board'\n",
    "board = [' ']*10\n"
   ]
  },
  {
   "cell_type": "code",
   "execution_count": 4,
   "id": "5a31e9de",
   "metadata": {},
   "outputs": [
    {
     "name": "stdout",
     "output_type": "stream",
     "text": [
      "    |   |\n",
      "    |   |   \n",
      "    |   |\n",
      "-------------\n",
      "    |   |\n",
      "    |   |   \n",
      "    |   |\n",
      "-------------\n",
      "    |   |\n",
      "    |   |   \n",
      "    |   |\n"
     ]
    }
   ],
   "source": [
    "# Our test was successful, and now the familiar Tic Tac Toe grid is displayed. \n",
    "board_display(board)"
   ]
  },
  {
   "cell_type": "code",
   "execution_count": 5,
   "id": "7bcba53f",
   "metadata": {},
   "outputs": [],
   "source": [
    "# The function player_input() takes a temporary empty placeholder string named 'marker' and requests the user to input their\n",
    "# choice of X or O. After the first player selects their marker, an if statment will structure the user choice into a tuple \n",
    "# that will later be unpacked. \n",
    "\n",
    "def player_input():\n",
    "    marker = ''\n",
    "    \n",
    "    while not (marker == 'X' or marker == 'O'):\n",
    "        marker = input('Player 1: Do you want to be X or O? ').upper()\n",
    "\n",
    "    if marker == 'X':\n",
    "        return ('X', 'O')\n",
    "    else:\n",
    "        return ('O', 'X')"
   ]
  },
  {
   "cell_type": "code",
   "execution_count": 9,
   "id": "655b93bb",
   "metadata": {},
   "outputs": [],
   "source": [
    "# The function place_marker() takes an import of a board list, an X or O marker, and the position on the board where the marker\n",
    "# will be placed. Using indexing from the board list, I can select at which index number I want to place my marker. \n",
    "def place_marker(board,marker,position):\n",
    "    board[position]= marker"
   ]
  },
  {
   "cell_type": "code",
   "execution_count": 10,
   "id": "84096899",
   "metadata": {},
   "outputs": [
    {
     "name": "stdout",
     "output_type": "stream",
     "text": [
      "    |   |\n",
      "    |  X|   \n",
      "    |   |\n",
      "-------------\n",
      "    |   |\n",
      "    |   |   \n",
      "    |   |\n",
      "-------------\n",
      "    |   |\n",
      "    |   |   \n",
      "    |   |\n"
     ]
    }
   ],
   "source": [
    "#Test to confirm marker placement works \n",
    "place_marker(board,'X',8)\n",
    "board_display(board)"
   ]
  },
  {
   "cell_type": "code",
   "execution_count": 11,
   "id": "3ecce8a4",
   "metadata": {},
   "outputs": [],
   "source": [
    "# The function win_check() takes an import of the board list and the player marker to check all hypothetical methods in which \n",
    "# one player may win in Tic Tac Toe and returns a boolean.\n",
    "\n",
    "def win_check(board,marker):\n",
    "    return((board[1] == marker and board[2] == marker and board[3] == marker) or\n",
    "           (board[4] == marker and board[5] == marker and board[6] == marker) or\n",
    "           (board[7] == marker and board[8] == marker and board[9] == marker) or\n",
    "           (board[1] == marker and board[4] == marker and board[7] == marker) or\n",
    "           (board[2] == marker and board[5] == marker and board[8] == marker) or \n",
    "           (board[3] == marker and board[6] == marker and board[9] == marker) or \n",
    "           (board[1] == marker and board[5] == marker and board[9] == marker) or\n",
    "           (board[3] == marker and board[5] == marker and board[7] == marker)) "
   ]
  },
  {
   "cell_type": "code",
   "execution_count": 12,
   "id": "b3fc16f1",
   "metadata": {},
   "outputs": [
    {
     "data": {
      "text/plain": [
       "False"
      ]
     },
     "execution_count": 12,
     "metadata": {},
     "output_type": "execute_result"
    }
   ],
   "source": [
    "# Test to confirm this works, since my test board only has one 'X' on it.\n",
    "win_check(board,'X')"
   ]
  },
  {
   "cell_type": "code",
   "execution_count": 13,
   "id": "57fac17b",
   "metadata": {},
   "outputs": [],
   "source": [
    "# I imported the random module and defined a function called choose_first(). This function uses the random.randint() package\n",
    "# to generate a random number, either 0 or 1, to determine who goes first.\n",
    "\n",
    "import random\n",
    "def choose_first():\n",
    "    if random.randint(0,1) == 0:\n",
    "        return 'Player 1'\n",
    "    else:\n",
    "        return 'Player 2'"
   ]
  },
  {
   "cell_type": "code",
   "execution_count": 14,
   "id": "f0fddf55",
   "metadata": {},
   "outputs": [
    {
     "data": {
      "text/plain": [
       "'Player 2'"
      ]
     },
     "execution_count": 14,
     "metadata": {},
     "output_type": "execute_result"
    }
   ],
   "source": [
    "# Test of choose_first()\n",
    "choose_first()"
   ]
  },
  {
   "cell_type": "code",
   "execution_count": 15,
   "id": "8ad23267",
   "metadata": {},
   "outputs": [],
   "source": [
    "# The function space_check() takes inputs of a board list and a position to determine if there is a free space at the index \n",
    "# location specified. \n",
    "def space_check(board, position):\n",
    "    if board[position] == ' ':\n",
    "        return True\n",
    "    else:\n",
    "        return False"
   ]
  },
  {
   "cell_type": "code",
   "execution_count": 16,
   "id": "4b905dfc",
   "metadata": {},
   "outputs": [
    {
     "data": {
      "text/plain": [
       "True"
      ]
     },
     "execution_count": 16,
     "metadata": {},
     "output_type": "execute_result"
    }
   ],
   "source": [
    "space_check(board,1)"
   ]
  },
  {
   "cell_type": "code",
   "execution_count": 17,
   "id": "3d1ed0b9",
   "metadata": {},
   "outputs": [
    {
     "data": {
      "text/plain": [
       "True"
      ]
     },
     "execution_count": 17,
     "metadata": {},
     "output_type": "execute_result"
    }
   ],
   "source": [
    "space_check(board,2)"
   ]
  },
  {
   "cell_type": "code",
   "execution_count": 18,
   "id": "561f806b",
   "metadata": {},
   "outputs": [
    {
     "data": {
      "text/plain": [
       "True"
      ]
     },
     "execution_count": 18,
     "metadata": {},
     "output_type": "execute_result"
    }
   ],
   "source": [
    "space_check(board,5)"
   ]
  },
  {
   "cell_type": "code",
   "execution_count": 19,
   "id": "22838732",
   "metadata": {},
   "outputs": [],
   "source": [
    "# The function full_board_check() takes an input of a list and determines if the Tic Tac Toe board is full. \n",
    "def full_board_check(board):\n",
    "    for i in range(1,10):\n",
    "        if space_check(board,i):\n",
    "            return False\n",
    "    return True"
   ]
  },
  {
   "cell_type": "code",
   "execution_count": 20,
   "id": "c01c0b34",
   "metadata": {},
   "outputs": [
    {
     "data": {
      "text/plain": [
       "False"
      ]
     },
     "execution_count": 20,
     "metadata": {},
     "output_type": "execute_result"
    }
   ],
   "source": [
    "full_board_check(board)"
   ]
  },
  {
   "cell_type": "code",
   "execution_count": 21,
   "id": "3101e0e9",
   "metadata": {},
   "outputs": [],
   "source": [
    "# The function player_location() takes an input of a board list and prompts the player to select at which index number would \n",
    "# they like to place their marker at. \n",
    "def player_location(board):\n",
    "    position = 0\n",
    "    \n",
    "    while position not in [1,2,3,4,5,6,7,8,9] or not space_check(board,position):\n",
    "        position = int(input(\"Please pick a position 1-9 to place your marker:\"))\n",
    "    return position "
   ]
  },
  {
   "cell_type": "code",
   "execution_count": 22,
   "id": "cb6e061e",
   "metadata": {},
   "outputs": [],
   "source": [
    "# The function replay() asks either player if they would like to play another round. \n",
    "def replay():\n",
    "    play_again = input('Would you like to play again? Y or N:')\n",
    "    \n",
    "    if play_again == 'Y':\n",
    "        return True\n",
    "    else:\n",
    "        return False"
   ]
  },
  {
   "cell_type": "code",
   "execution_count": 28,
   "id": "61b3a307",
   "metadata": {},
   "outputs": [
    {
     "name": "stdout",
     "output_type": "stream",
     "text": [
      "    |   |\n",
      " X  |   |  O\n",
      "    |   |\n",
      "-------------\n",
      "    |   |\n",
      " X  |   |   \n",
      "    |   |\n",
      "-------------\n",
      "    |   |\n",
      " X  |  O|   \n",
      "    |   |\n",
      "Congratulations you won!\n"
     ]
    },
    {
     "ename": "KeyboardInterrupt",
     "evalue": "Interrupted by user",
     "output_type": "error",
     "traceback": [
      "\u001b[1;31m---------------------------------------------------------------------------\u001b[0m",
      "\u001b[1;31mKeyboardInterrupt\u001b[0m                         Traceback (most recent call last)",
      "\u001b[1;32m~\\AppData\\Local\\Temp/ipykernel_15372/2574264154.py\u001b[0m in \u001b[0;36m<module>\u001b[1;34m\u001b[0m\n\u001b[0;32m     50\u001b[0m                         \u001b[0mturn\u001b[0m \u001b[1;33m=\u001b[0m \u001b[1;34m'Player 1'\u001b[0m\u001b[1;33m\u001b[0m\u001b[1;33m\u001b[0m\u001b[0m\n\u001b[0;32m     51\u001b[0m \u001b[1;33m\u001b[0m\u001b[0m\n\u001b[1;32m---> 52\u001b[1;33m     \u001b[1;32mif\u001b[0m \u001b[1;32mnot\u001b[0m \u001b[0mreplay\u001b[0m\u001b[1;33m(\u001b[0m\u001b[1;33m)\u001b[0m\u001b[1;33m:\u001b[0m\u001b[1;33m\u001b[0m\u001b[1;33m\u001b[0m\u001b[0m\n\u001b[0m\u001b[0;32m     53\u001b[0m         \u001b[1;32mbreak\u001b[0m\u001b[1;33m\u001b[0m\u001b[1;33m\u001b[0m\u001b[0m\n\u001b[0;32m     54\u001b[0m \u001b[1;33m\u001b[0m\u001b[0m\n",
      "\u001b[1;32m~\\AppData\\Local\\Temp/ipykernel_15372/1269000332.py\u001b[0m in \u001b[0;36mreplay\u001b[1;34m()\u001b[0m\n\u001b[0;32m      1\u001b[0m \u001b[1;32mdef\u001b[0m \u001b[0mreplay\u001b[0m\u001b[1;33m(\u001b[0m\u001b[1;33m)\u001b[0m\u001b[1;33m:\u001b[0m\u001b[1;33m\u001b[0m\u001b[1;33m\u001b[0m\u001b[0m\n\u001b[1;32m----> 2\u001b[1;33m     \u001b[0mplay_again\u001b[0m \u001b[1;33m=\u001b[0m \u001b[0minput\u001b[0m\u001b[1;33m(\u001b[0m\u001b[1;34m'Would you like to play again? Y or N:'\u001b[0m\u001b[1;33m)\u001b[0m\u001b[1;33m\u001b[0m\u001b[1;33m\u001b[0m\u001b[0m\n\u001b[0m\u001b[0;32m      3\u001b[0m \u001b[1;33m\u001b[0m\u001b[0m\n\u001b[0;32m      4\u001b[0m     \u001b[1;32mif\u001b[0m \u001b[0mplay_again\u001b[0m \u001b[1;33m==\u001b[0m \u001b[1;34m'Y'\u001b[0m\u001b[1;33m:\u001b[0m\u001b[1;33m\u001b[0m\u001b[1;33m\u001b[0m\u001b[0m\n\u001b[0;32m      5\u001b[0m         \u001b[1;32mreturn\u001b[0m \u001b[1;32mTrue\u001b[0m\u001b[1;33m\u001b[0m\u001b[1;33m\u001b[0m\u001b[0m\n",
      "\u001b[1;32m~\\anaconda3\\lib\\site-packages\\ipykernel\\kernelbase.py\u001b[0m in \u001b[0;36mraw_input\u001b[1;34m(self, prompt)\u001b[0m\n\u001b[0;32m   1004\u001b[0m                 \u001b[1;34m\"raw_input was called, but this frontend does not support input requests.\"\u001b[0m\u001b[1;33m\u001b[0m\u001b[1;33m\u001b[0m\u001b[0m\n\u001b[0;32m   1005\u001b[0m             )\n\u001b[1;32m-> 1006\u001b[1;33m         return self._input_request(\n\u001b[0m\u001b[0;32m   1007\u001b[0m             \u001b[0mstr\u001b[0m\u001b[1;33m(\u001b[0m\u001b[0mprompt\u001b[0m\u001b[1;33m)\u001b[0m\u001b[1;33m,\u001b[0m\u001b[1;33m\u001b[0m\u001b[1;33m\u001b[0m\u001b[0m\n\u001b[0;32m   1008\u001b[0m             \u001b[0mself\u001b[0m\u001b[1;33m.\u001b[0m\u001b[0m_parent_ident\u001b[0m\u001b[1;33m[\u001b[0m\u001b[1;34m\"shell\"\u001b[0m\u001b[1;33m]\u001b[0m\u001b[1;33m,\u001b[0m\u001b[1;33m\u001b[0m\u001b[1;33m\u001b[0m\u001b[0m\n",
      "\u001b[1;32m~\\anaconda3\\lib\\site-packages\\ipykernel\\kernelbase.py\u001b[0m in \u001b[0;36m_input_request\u001b[1;34m(self, prompt, ident, parent, password)\u001b[0m\n\u001b[0;32m   1049\u001b[0m             \u001b[1;32mexcept\u001b[0m \u001b[0mKeyboardInterrupt\u001b[0m\u001b[1;33m:\u001b[0m\u001b[1;33m\u001b[0m\u001b[1;33m\u001b[0m\u001b[0m\n\u001b[0;32m   1050\u001b[0m                 \u001b[1;31m# re-raise KeyboardInterrupt, to truncate traceback\u001b[0m\u001b[1;33m\u001b[0m\u001b[1;33m\u001b[0m\u001b[0m\n\u001b[1;32m-> 1051\u001b[1;33m                 \u001b[1;32mraise\u001b[0m \u001b[0mKeyboardInterrupt\u001b[0m\u001b[1;33m(\u001b[0m\u001b[1;34m\"Interrupted by user\"\u001b[0m\u001b[1;33m)\u001b[0m \u001b[1;32mfrom\u001b[0m \u001b[1;32mNone\u001b[0m\u001b[1;33m\u001b[0m\u001b[1;33m\u001b[0m\u001b[0m\n\u001b[0m\u001b[0;32m   1052\u001b[0m             \u001b[1;32mexcept\u001b[0m \u001b[0mException\u001b[0m\u001b[1;33m:\u001b[0m\u001b[1;33m\u001b[0m\u001b[1;33m\u001b[0m\u001b[0m\n\u001b[0;32m   1053\u001b[0m                 \u001b[0mself\u001b[0m\u001b[1;33m.\u001b[0m\u001b[0mlog\u001b[0m\u001b[1;33m.\u001b[0m\u001b[0mwarning\u001b[0m\u001b[1;33m(\u001b[0m\u001b[1;34m\"Invalid Message:\"\u001b[0m\u001b[1;33m,\u001b[0m \u001b[0mexc_info\u001b[0m\u001b[1;33m=\u001b[0m\u001b[1;32mTrue\u001b[0m\u001b[1;33m)\u001b[0m\u001b[1;33m\u001b[0m\u001b[1;33m\u001b[0m\u001b[0m\n",
      "\u001b[1;31mKeyboardInterrupt\u001b[0m: Interrupted by user"
     ]
    }
   ],
   "source": [
    "#This section is the assembly of Game Logic principles and the created functions to produce a fully functional TTT game. \n",
    "\n",
    "print('Welcome to Tic Tac Toe!')\n",
    "\n",
    "# While the game_on function is True, we create an empty board, unpack our marker selection tuples, and determine \n",
    "# who will go first. The game_on function will be set to True when we indicate we are ready to play to the computer. \n",
    "while True:\n",
    "    \n",
    "    board = [' ']*10\n",
    "    player1_marker,player2_marker = player_input()\n",
    "    turn = choose_first()\n",
    "    print(turn + 'will go first')\n",
    "    \n",
    "    play_game = input('Are you ready to play? Y or N')\n",
    "    \n",
    "    if play_game == 'Y' or 'y':\n",
    "        game_on = True \n",
    "    else:\n",
    "        game_on = False \n",
    "  # While game_on is True, we create two scenarios for both players and use the functions board_display(), player_location(), \n",
    "  # and place_marker() to create a board for the players to place markers on the indicated position they choose. \n",
    "  # Win_check() and full_board_check() are also used to check if a player has won or a tie has been declared. \n",
    "    while game_on:\n",
    "        if turn == 'Player 1':\n",
    "            board_display(board)\n",
    "            position = player_location(board)\n",
    "            place_marker(board,player1_marker,position)\n",
    "            \n",
    "            if win_check(board,player1_marker):\n",
    "                board_display(board)\n",
    "                print('Congratulations you won!')\n",
    "                game_on = False\n",
    "            else: \n",
    "                if full_board_check(board):\n",
    "                    board_display(board)\n",
    "                    print(\"Draw, want to play again?\")\n",
    "                    break\n",
    "                else: \n",
    "                    turn = 'Player 2'\n",
    "        \n",
    "        if turn == 'Player 2':\n",
    "                board_display(board)\n",
    "                position = player_location(board)\n",
    "                place_marker(board,player2_marker,position)\n",
    "            \n",
    "                if win_check(board,player2_marker):\n",
    "                    board_display(board)\n",
    "                    print('Congratulations you won!')\n",
    "                    game_on = False\n",
    "                else: \n",
    "                    if full_board_check(board):\n",
    "                        board_display(board)\n",
    "                        print(\"Draw, want to play again?\")\n",
    "                        break\n",
    "                    else: \n",
    "                        turn = 'Player 1'\n",
    "        \n",
    "    if not replay():\n",
    "        break\n",
    "                \n",
    "                \n",
    "        "
   ]
  },
  {
   "cell_type": "code",
   "execution_count": null,
   "id": "8f55f70a",
   "metadata": {},
   "outputs": [],
   "source": []
  },
  {
   "cell_type": "code",
   "execution_count": null,
   "id": "e04b600b",
   "metadata": {},
   "outputs": [],
   "source": []
  }
 ],
 "metadata": {
  "kernelspec": {
   "display_name": "Python 3 (ipykernel)",
   "language": "python",
   "name": "python3"
  },
  "language_info": {
   "codemirror_mode": {
    "name": "ipython",
    "version": 3
   },
   "file_extension": ".py",
   "mimetype": "text/x-python",
   "name": "python",
   "nbconvert_exporter": "python",
   "pygments_lexer": "ipython3",
   "version": "3.9.7"
  }
 },
 "nbformat": 4,
 "nbformat_minor": 5
}
